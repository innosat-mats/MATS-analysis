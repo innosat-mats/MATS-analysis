{
 "cells": [
  {
   "cell_type": "code",
   "execution_count": null,
   "metadata": {},
   "outputs": [],
   "source": [
    "deltaz = np.diff(z).mean()\n",
    "for i in range(emission.shape[0]):\n",
    "    emission[i, :] /= emission[i, :].sum()\n",
    "emissum = emission[-1, :].sum()\n",
    "print(emissum)\n",
    "no_steps = 100\n",
    "tanheights = np.arange(30, 120, 5)\n",
    "taus = np.zeros((sigma.shape[1], 2*no_steps-1, len(tanheights)))\n",
    "i = 0\n",
    "path_steps = []\n",
    "factor = []\n",
    "\n",
    "for tanz in tanheights:\n",
    "    z_paths, path_step = path_z(z[-1], tanz, 90.0, no_steps)\n",
    "    path_steps.append(path_step)\n",
    "    z_paths.extend(z_paths[-2::-1])\n",
    "    zi = np.floor((np.array(z_paths)-z[0])/deltaz).astype(int)\n",
    "    # emissum = emission[zi, :].sum()/no_steps/2\n",
    "    tau = (sigma[zi, :].T*(np.exp(np.interp(z_paths, z, np.log(o2))))\n",
    "           ).cumsum(axis=1)*path_step * 1e5\n",
    "    taus[:, :, i] = tau\n",
    "    factor.append(((np.exp(-taus[:, :, i])*emission[zi, :].T)).sum(0)/emissum)\n",
    "    i += 1"
   ]
  }
 ],
 "metadata": {
  "language_info": {
   "name": "python"
  },
  "orig_nbformat": 4
 },
 "nbformat": 4,
 "nbformat_minor": 2
}
